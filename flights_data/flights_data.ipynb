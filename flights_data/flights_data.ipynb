{
 "cells": [
  {
   "cell_type": "code",
   "execution_count": 1,
   "metadata": {},
   "outputs": [],
   "source": [
    "import pandas as pd"
   ]
  },
  {
   "cell_type": "code",
   "execution_count": 12,
   "metadata": {},
   "outputs": [
    {
     "name": "stdout",
     "output_type": "stream",
     "text": [
      "Data gathering starts at: 2020-01-14 and ends at: 2020-04-12\n",
      "The dataset contains 90 records, which is what a silver sub allows at flightradar24\n"
     ]
    }
   ],
   "source": [
    "flight_stats = pd.read_csv(\"number-of-commercial-fli.csv\")\n",
    "chart = pd.read_csv(\"chart.csv\")\n",
    "\n",
    "# Print a small snippet of the dataset\n",
    "print(\"Data gathering starts at: {} and ends at: {}\".format(flight_stats.DateTime.min(), flight_stats.DateTime.max()))\n",
    "\n",
    "print(\"The dataset contains 90 records, which is what a silver sub allows at flightradar24\")"
   ]
  },
  {
   "cell_type": "code",
   "execution_count": 22,
   "metadata": {},
   "outputs": [
    {
     "name": "stdout",
     "output_type": "stream",
     "text": [
      "first rows of flight stats: \n",
      "\n",
      "     DateTime  7-day moving average  Number of flights\n",
      "0  2020-01-14                110793             111118\n",
      "1  2020-01-15                111014             113468\n",
      "2  2020-01-16                111126             116101\n",
      "3  2020-01-17                111218             118166\n",
      "4  2020-01-18                111329             102580\n",
      "last rows of flight stats: \n",
      "\n",
      "      DateTime  7-day moving average  Number of flights\n",
      "85  2020-04-08                 31214              32659\n",
      "86  2020-04-09                 30816              31703\n",
      "87  2020-04-10                 30167              30129\n",
      "88  2020-04-11                 29849              24980\n",
      "89  2020-04-12                 29441              23923\n"
     ]
    }
   ],
   "source": [
    "print(\"first rows of flight stats: \\n\")\n",
    "print(flight_stats.head())\n",
    "print(\"last rows of flight stats: \\n\")\n",
    "print(flight_stats.tail())"
   ]
  },
  {
   "cell_type": "markdown",
   "metadata": {},
   "source": [
    "## Eindhoven\n",
    "- the table below contains data on scheduled and tracked flights coming from Eindhoven airport. I couldn't find a way to download all data at once."
   ]
  },
  {
   "cell_type": "code",
   "execution_count": 9,
   "metadata": {},
   "outputs": [
    {
     "data": {
      "text/html": [
       "<div>\n",
       "<style scoped>\n",
       "    .dataframe tbody tr th:only-of-type {\n",
       "        vertical-align: middle;\n",
       "    }\n",
       "\n",
       "    .dataframe tbody tr th {\n",
       "        vertical-align: top;\n",
       "    }\n",
       "\n",
       "    .dataframe thead th {\n",
       "        text-align: right;\n",
       "    }\n",
       "</style>\n",
       "<table border=\"1\" class=\"dataframe\">\n",
       "  <thead>\n",
       "    <tr style=\"text-align: right;\">\n",
       "      <th></th>\n",
       "      <th>DateTime</th>\n",
       "      <th>Scheduled flights</th>\n",
       "      <th>Tracked flights</th>\n",
       "    </tr>\n",
       "  </thead>\n",
       "  <tbody>\n",
       "    <tr>\n",
       "      <th>25</th>\n",
       "      <td>2020-04-08</td>\n",
       "      <td>11</td>\n",
       "      <td>1</td>\n",
       "    </tr>\n",
       "    <tr>\n",
       "      <th>26</th>\n",
       "      <td>2020-04-09</td>\n",
       "      <td>19</td>\n",
       "      <td>1</td>\n",
       "    </tr>\n",
       "    <tr>\n",
       "      <th>27</th>\n",
       "      <td>2020-04-10</td>\n",
       "      <td>12</td>\n",
       "      <td>3</td>\n",
       "    </tr>\n",
       "    <tr>\n",
       "      <th>28</th>\n",
       "      <td>2020-04-11</td>\n",
       "      <td>16</td>\n",
       "      <td>1</td>\n",
       "    </tr>\n",
       "    <tr>\n",
       "      <th>29</th>\n",
       "      <td>2020-04-12</td>\n",
       "      <td>14</td>\n",
       "      <td>2</td>\n",
       "    </tr>\n",
       "  </tbody>\n",
       "</table>\n",
       "</div>"
      ],
      "text/plain": [
       "      DateTime  Scheduled flights  Tracked flights\n",
       "25  2020-04-08                 11                1\n",
       "26  2020-04-09                 19                1\n",
       "27  2020-04-10                 12                3\n",
       "28  2020-04-11                 16                1\n",
       "29  2020-04-12                 14                2"
      ]
     },
     "execution_count": 9,
     "metadata": {},
     "output_type": "execute_result"
    }
   ],
   "source": [
    "chart.tail()"
   ]
  },
  {
   "cell_type": "code",
   "execution_count": null,
   "metadata": {},
   "outputs": [],
   "source": []
  }
 ],
 "metadata": {
  "kernelspec": {
   "display_name": "Python 3",
   "language": "python",
   "name": "python3"
  },
  "language_info": {
   "codemirror_mode": {
    "name": "ipython",
    "version": 3
   },
   "file_extension": ".py",
   "mimetype": "text/x-python",
   "name": "python",
   "nbconvert_exporter": "python",
   "pygments_lexer": "ipython3",
   "version": "3.8.2"
  }
 },
 "nbformat": 4,
 "nbformat_minor": 4
}
